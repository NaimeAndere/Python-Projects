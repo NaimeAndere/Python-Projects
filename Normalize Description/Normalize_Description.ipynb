{
 "cells": [
  {
   "cell_type": "markdown",
   "id": "28454a65",
   "metadata": {},
   "source": [
    "# Script to normilize Description"
   ]
  },
  {
   "cell_type": "markdown",
   "id": "600e0a00",
   "metadata": {},
   "source": [
    "# Install Packages"
   ]
  },
  {
   "cell_type": "code",
   "execution_count": null,
   "id": "49c4f1fe",
   "metadata": {},
   "outputs": [],
   "source": [
    "!pip install pandas scikit-learn nltk"
   ]
  },
  {
   "cell_type": "markdown",
   "id": "0eab30ed",
   "metadata": {},
   "source": [
    "# Load Packages"
   ]
  },
  {
   "cell_type": "code",
   "execution_count": 1,
   "id": "4d8358e4",
   "metadata": {},
   "outputs": [],
   "source": [
    "import pandas as pd\n",
    "import re\n",
    "from sklearn.feature_extraction.text import TfidfVectorizer\n",
    "from sklearn.cluster import KMeans\n",
    "from nltk.corpus import stopwords\n",
    "from nltk.stem import WordNetLemmatizer\n",
    "from nltk.tokenize import word_tokenize"
   ]
  },
  {
   "cell_type": "markdown",
   "id": "fc8bde39",
   "metadata": {},
   "source": [
    "## Download required NLTK models and corpora"
   ]
  },
  {
   "cell_type": "code",
   "execution_count": null,
   "id": "aefa28cf",
   "metadata": {},
   "outputs": [],
   "source": [
    "import nltk\n",
    "nltk.download('punkt')\n",
    "nltk.download('stopwords')\n",
    "nltk.download('wordnet')"
   ]
  },
  {
   "cell_type": "markdown",
   "id": "bf282e02",
   "metadata": {},
   "source": [
    "# Function to normalize and standardize text"
   ]
  },
  {
   "cell_type": "code",
   "execution_count": 3,
   "id": "2959c0fa",
   "metadata": {},
   "outputs": [],
   "source": [
    "def preprocess_text(text):\n",
    "    \n",
    "    if not isinstance(text, str):\n",
    "        return \"\"\n",
    "    # Convert to lowercase\n",
    "    text = text.lower()\n",
    "    # Remove special characters and numbers\n",
    "    text = re.sub(r'[^a-z\\s]', '', text)\n",
    "    # Tokenize text\n",
    "    word_tokens = word_tokenize(text)\n",
    "    # Remove stop words\n",
    "    stop_words = set(stopwords.words('english'))\n",
    "    filtered_text = [word for word in word_tokens if word not in stop_words]\n",
    "    # Lemmatize words\n",
    "    lemmatizer = WordNetLemmatizer()\n",
    "    lemmatized_text = [lemmatizer.lemmatize(word) for word in filtered_text]\n",
    "    return ' '.join(lemmatized_text)"
   ]
  },
  {
   "cell_type": "markdown",
   "id": "d0ce76d9",
   "metadata": {},
   "source": [
    "# Load data"
   ]
  },
  {
   "cell_type": "code",
   "execution_count": null,
   "id": "8c914138",
   "metadata": {},
   "outputs": [],
   "source": [
    "filename = 'xxxxxxxx.csv'  # replace with your file\n",
    "df = pd.read_csv(filename)"
   ]
  },
  {
   "cell_type": "markdown",
   "id": "46b9106d",
   "metadata": {},
   "source": [
    "# Assuming the column name with task descriptions is 'task_description'"
   ]
  },
  {
   "cell_type": "code",
   "execution_count": null,
   "id": "c26585c4",
   "metadata": {},
   "outputs": [],
   "source": [
    "df['cleaned_description'] = df['DescriptionColumnName'].apply(preprocess_text) # replace by column name to receive normalization"
   ]
  },
  {
   "cell_type": "markdown",
   "id": "1f6eb093",
   "metadata": {},
   "source": [
    "# Use TF-IDF for text vectorization"
   ]
  },
  {
   "cell_type": "code",
   "execution_count": 25,
   "id": "72c39585",
   "metadata": {},
   "outputs": [],
   "source": [
    "tfidf_vectorizer = TfidfVectorizer()\n",
    "tfidf_matrix = tfidf_vectorizer.fit_transform(df['cleaned_description'])"
   ]
  },
  {
   "cell_type": "markdown",
   "id": "d5a2fe04",
   "metadata": {},
   "source": [
    "# Use KMeans clustering to find common task descriptions"
   ]
  },
  {
   "cell_type": "code",
   "execution_count": null,
   "id": "4acccf12",
   "metadata": {},
   "outputs": [],
   "source": [
    "num_clusters = 50  # Change this to the number of desired distinct descriptions\n",
    "kmeans = KMeans(n_clusters=num_clusters, random_state=0)\n",
    "kmeans.fit(tfidf_matrix)"
   ]
  },
  {
   "cell_type": "markdown",
   "id": "6d08301c",
   "metadata": {},
   "source": [
    "# Assign cluster labels"
   ]
  },
  {
   "cell_type": "code",
   "execution_count": 27,
   "id": "e9eea74b",
   "metadata": {},
   "outputs": [],
   "source": [
    "df['cluster'] = kmeans.labels_"
   ]
  },
  {
   "cell_type": "markdown",
   "id": "5f4333c4",
   "metadata": {},
   "source": [
    "# Display most representative task description for each cluster"
   ]
  },
  {
   "cell_type": "code",
   "execution_count": 29,
   "id": "0f15dc7f",
   "metadata": {},
   "outputs": [],
   "source": [
    "cluster_representatives = {}\n",
    "\n",
    "for cluster in range(num_clusters):\n",
    "    cluster_indices = df[df['cluster'] == cluster].index\n",
    "    representative_text = df.loc[cluster_indices, 'TaskDescription'].values[0]\n",
    "    cluster_representatives[cluster] = representative_text"
   ]
  },
  {
   "cell_type": "markdown",
   "id": "dedbe23f",
   "metadata": {},
   "source": [
    "# Save results"
   ]
  },
  {
   "cell_type": "code",
   "execution_count": 30,
   "id": "890c152f",
   "metadata": {},
   "outputs": [],
   "source": [
    "output_filename = 'normalized_tasks.csv'\n",
    "df.to_csv(output_filename, index=False)"
   ]
  },
  {
   "cell_type": "markdown",
   "id": "54b2be69",
   "metadata": {},
   "source": [
    "# print results"
   ]
  },
  {
   "cell_type": "code",
   "execution_count": null,
   "id": "5be7b6c4",
   "metadata": {},
   "outputs": [],
   "source": [
    "print(f\"Cluster representatives: {cluster_representatives}\")\n",
    "print(f\"Normalized tasks are saved to {output_filename}\")"
   ]
  },
  {
   "cell_type": "code",
   "execution_count": null,
   "id": "4031a520",
   "metadata": {},
   "outputs": [],
   "source": []
  },
  {
   "cell_type": "code",
   "execution_count": null,
   "id": "73d9a9e7",
   "metadata": {},
   "outputs": [],
   "source": []
  },
  {
   "cell_type": "code",
   "execution_count": null,
   "id": "a674616a",
   "metadata": {},
   "outputs": [],
   "source": []
  },
  {
   "cell_type": "code",
   "execution_count": null,
   "id": "71020247",
   "metadata": {},
   "outputs": [],
   "source": []
  },
  {
   "cell_type": "code",
   "execution_count": null,
   "id": "7a24f6c4",
   "metadata": {},
   "outputs": [],
   "source": []
  },
  {
   "cell_type": "code",
   "execution_count": null,
   "id": "8036cb05",
   "metadata": {},
   "outputs": [],
   "source": []
  },
  {
   "cell_type": "code",
   "execution_count": null,
   "id": "b8813dc6",
   "metadata": {},
   "outputs": [],
   "source": []
  },
  {
   "cell_type": "markdown",
   "id": "d8b4339c",
   "metadata": {},
   "source": [
    "# TEST AREA"
   ]
  },
  {
   "cell_type": "code",
   "execution_count": null,
   "id": "0c47cc22",
   "metadata": {},
   "outputs": [],
   "source": [
    "df.describe()"
   ]
  },
  {
   "cell_type": "code",
   "execution_count": null,
   "id": "2d2d0ef8",
   "metadata": {},
   "outputs": [],
   "source": [
    "df.info()"
   ]
  }
 ],
 "metadata": {
  "kernelspec": {
   "display_name": "base",
   "language": "python",
   "name": "python3"
  },
  "language_info": {
   "codemirror_mode": {
    "name": "ipython",
    "version": 3
   },
   "file_extension": ".py",
   "mimetype": "text/x-python",
   "name": "python",
   "nbconvert_exporter": "python",
   "pygments_lexer": "ipython3",
   "version": "3.11.5"
  }
 },
 "nbformat": 4,
 "nbformat_minor": 5
}
