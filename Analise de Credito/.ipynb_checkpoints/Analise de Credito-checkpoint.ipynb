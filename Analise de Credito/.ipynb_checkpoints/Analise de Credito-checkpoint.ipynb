{
 "cells": [
  {
   "cell_type": "markdown",
   "id": "0243d9d4",
   "metadata": {},
   "source": [
    "## Análise Fatorial PCA\n",
    "### Naime Andere\n",
    "\n",
    "#### Project: Analise de crédito\n",
    "\n",
    "Content: https://naime-andere.notion.site/Unsupervised-Machine-Learning-An-lise-Fatorial-e-PCA-be9a43fe565a46d3ba021575fd18073d?pvs=4\n",
    "\n",
    "Linkedin: https://www.linkedin.com/in/naimeandere/ \n",
    "\n",
    "Github: https://github.com/NaimeAndere"
   ]
  },
  {
   "cell_type": "markdown",
   "id": "04dda077",
   "metadata": {},
   "source": [
    "##### Instalando os pacotes"
   ]
  },
  {
   "cell_type": "code",
   "execution_count": null,
   "id": "c33c304d",
   "metadata": {},
   "outputs": [],
   "source": [
    "!pip install pandas\n",
    "!pip install numpy\n",
    "!pip install factor_analyzer\n",
    "!pip install sympy\n",
    "!pip install scipy\n",
    "!pip install matplotlib\n",
    "!pip install seaborn\n",
    "!pip install plotly\n",
    "!pip install pingouin\n",
    "!pip install pyshp"
   ]
  },
  {
   "cell_type": "markdown",
   "id": "65c9bb81",
   "metadata": {},
   "source": [
    "##### Importando os pacotes necessários"
   ]
  },
  {
   "cell_type": "code",
   "execution_count": 2,
   "id": "8953d7ce",
   "metadata": {},
   "outputs": [],
   "source": [
    "import pandas as pd\n",
    "import numpy as np\n",
    "from factor_analyzer import FactorAnalyzer\n",
    "from factor_analyzer.factor_analyzer import calculate_bartlett_sphericity\n",
    "import pingouin as pg\n",
    "import matplotlib.pyplot as plt\n",
    "import seaborn as sns\n",
    "import plotly.io as pio\n",
    "pio.renderers.default = 'browser'\n",
    "import plotly.graph_objects as go\n",
    "import sympy as sy\n",
    "import scipy as sp"
   ]
  },
  {
   "cell_type": "markdown",
   "id": "1f0a81cd",
   "metadata": {},
   "source": [
    "##### Importando Banco de Dados"
   ]
  },
  {
   "cell_type": "code",
   "execution_count": 3,
   "id": "90c02443",
   "metadata": {},
   "outputs": [],
   "source": [
    "emprestimo = pd.read_excel(\"emprestimo_banco.xlsx\")\n",
    "# Fonte: adaptado de https://www.kaggle.com/datasets/itsmesunil/bank-loan-modelling"
   ]
  },
  {
   "cell_type": "markdown",
   "id": "48b06463",
   "metadata": {},
   "source": [
    "##### Separando somente as variáveis para a análise fatorial PCA"
   ]
  },
  {
   "cell_type": "code",
   "execution_count": 4,
   "id": "7ce16eb1",
   "metadata": {},
   "outputs": [],
   "source": [
    "emprestimo_pca = emprestimo.drop(columns=['ID'])"
   ]
  },
  {
   "cell_type": "markdown",
   "id": "8438824f",
   "metadata": {},
   "source": [
    "##### Estatísticas descritivas das variáveis"
   ]
  },
  {
   "cell_type": "code",
   "execution_count": 6,
   "id": "dd8521dc",
   "metadata": {},
   "outputs": [
    {
     "name": "stdout",
     "output_type": "stream",
     "text": [
      "               Age   Experience       Income       Family        CCAvg  \\\n",
      "count  5000.000000  5000.000000  5000.000000  5000.000000  5000.000000   \n",
      "mean     45.338400    20.119600    73.774200     2.396400     1.937913   \n",
      "std      11.463166    11.440484    46.033729     1.147663     1.747666   \n",
      "min      23.000000     0.000000     8.000000     1.000000     0.000000   \n",
      "25%      35.000000    10.000000    39.000000     1.000000     0.700000   \n",
      "50%      45.000000    20.000000    64.000000     2.000000     1.500000   \n",
      "75%      55.000000    30.000000    98.000000     3.000000     2.500000   \n",
      "max      67.000000    43.000000   224.000000     4.000000    10.000000   \n",
      "\n",
      "          Mortgage  \n",
      "count  5000.000000  \n",
      "mean     56.498800  \n",
      "std     101.713802  \n",
      "min       0.000000  \n",
      "25%       0.000000  \n",
      "50%       0.000000  \n",
      "75%     101.000000  \n",
      "max     635.000000  \n"
     ]
    }
   ],
   "source": [
    "tab_desc = emprestimo_pca.describe()\n",
    "print (tab_desc)"
   ]
  },
  {
   "cell_type": "markdown",
   "id": "8dd8e128",
   "metadata": {},
   "source": [
    "##### Matriz de correlações de Pearson"
   ]
  },
  {
   "cell_type": "code",
   "execution_count": 7,
   "id": "8745719e",
   "metadata": {},
   "outputs": [],
   "source": [
    "# Matriz de correlações em um objeto \"simples\"\n",
    "\n",
    "corr = emprestimo_pca.corr()"
   ]
  },
  {
   "cell_type": "markdown",
   "id": "3ae9d332",
   "metadata": {},
   "source": [
    " ##### Gráfico interativo"
   ]
  },
  {
   "cell_type": "code",
   "execution_count": 8,
   "id": "d5aa8ad8",
   "metadata": {},
   "outputs": [],
   "source": [
    "fig = go.Figure()\n",
    "\n",
    "fig.add_trace(\n",
    "    go.Heatmap(\n",
    "        x = corr.columns,\n",
    "        y = corr.index,\n",
    "        z = np.array(corr),\n",
    "        text=corr.values,\n",
    "        texttemplate='%{text:.3f}',\n",
    "        colorscale='viridis'))\n",
    "\n",
    "fig.update_layout(\n",
    "    height = 600,\n",
    "    width = 600,\n",
    "    yaxis=dict(autorange=\"reversed\"))\n",
    "\n",
    "fig.show()"
   ]
  },
  {
   "cell_type": "markdown",
   "id": "bddb0f78",
   "metadata": {},
   "source": [
    "##### Teste de Esfericidade de Bartlett\n",
    "\n",
    "O Teste de Esfericidade de Bartlett verifica se as variáveis de uma matriz de covariância são independentes. Ele testa se a matriz é uma matriz identidade. Se o valor p for menor que 0,05, rejeitamos a hipótese nula de independência. O teste é usado em análise fatorial e análise de componentes principais para avaliar a adequação dos dados. É sensível ao tamanho da amostra e assume normalidade dos dados.\n",
    "\n",
    "https://naime-andere.notion.site/Teste-de-Esfericidade-de-Bartlett-62c3e50545244a979157409a9329a897?pvs=4"
   ]
  },
  {
   "cell_type": "code",
   "execution_count": 9,
   "id": "2b368e4b",
   "metadata": {},
   "outputs": [
    {
     "name": "stdout",
     "output_type": "stream",
     "text": [
      "Qui² Bartlett: 25409.78\n",
      "p-valor: 0.0\n"
     ]
    }
   ],
   "source": [
    "bartlett, p_value = calculate_bartlett_sphericity(emprestimo_pca)\n",
    "\n",
    "print(f'Qui² Bartlett: {round(bartlett, 2)}')\n",
    "print(f'p-valor: {round(p_value, 4)}')"
   ]
  },
  {
   "cell_type": "markdown",
   "id": "00f5781a",
   "metadata": {},
   "source": [
    "##### Teste de hipótese com p-valor\n",
    "\n",
    "https://naime-andere.notion.site/Hip-teses-nula-H0-e-Hip-tese-alternativa-H1-82d211f321b646ac87d2d258e2296ce4?pvs=4"
   ]
  },
  {
   "cell_type": "markdown",
   "id": "dd1e0605",
   "metadata": {},
   "source": [
    "##### Definindo a PCA (procedimento inicial extraindo todos os fatores possíveis)\n",
    "\n",
    "A Análise de Componentes Principais (PCA) é uma técnica de redução de dimensionalidade que transforma dados em um novo conjunto de variáveis não correlacionadas chamadas componentes principais. Esses componentes são ordenados por variância, com o primeiro componente capturando a maior variância nos dados. A PCA é usada para simplificar dados, reduzir ruído e melhorar a visualização. Ela é amplamente aplicada em áreas como processamento de imagens, reconhecimento de padrões e análise de dados.\n",
    "\n",
    "https://naime-andere.notion.site/PCA-An-lise-de-Componentes-Principais-7e3824084cea4998a86b06c0e32434de?pvs=4"
   ]
  },
  {
   "cell_type": "code",
   "execution_count": 10,
   "id": "afe6a7a8",
   "metadata": {},
   "outputs": [],
   "source": [
    "fa = FactorAnalyzer(n_factors=6, method='principal', rotation=None).fit(emprestimo_pca)"
   ]
  },
  {
   "cell_type": "markdown",
   "id": "8fb72658",
   "metadata": {},
   "source": [
    "##### Obtendo os autovalores // autovalores totalizam o valor das quantidade de variavies\n",
    "\n",
    "Autovalores são números que representam a quantidade de variância explicada por cada componente principal em uma análise de componentes principais (PCA). Eles são obtidos a partir da matriz de covariância dos dados. Autovalores maiores indicam componentes principais que explicam mais variância nos dados. A soma de todos os autovalores é igual à variância total dos dados. Autovalores são usados para determinar o número de componentes principais a serem retidos para análise.\n",
    "\n",
    "https://naime-andere.notion.site/Autovalores-e-Autovetores-eff71adb32a248fa934a3b0124e2e142?pvs=4"
   ]
  },
  {
   "cell_type": "code",
   "execution_count": 11,
   "id": "c264a90c",
   "metadata": {},
   "outputs": [
    {
     "name": "stdout",
     "output_type": "stream",
     "text": [
      "[2.02800719 1.73665956 0.97645432 0.90872121 0.34441264 0.00574507]\n"
     ]
    }
   ],
   "source": [
    "autovalores = fa.get_eigenvalues()[0]\n",
    "\n",
    "print(autovalores)"
   ]
  },
  {
   "cell_type": "markdown",
   "id": "30787ba5",
   "metadata": {},
   "source": [
    "##### Critério de Kaiser (raiz latente)\n",
    "\n",
    "O critério de Kaiser, também conhecido como regra da raiz latente, é um método para determinar o número de componentes principais a serem retidos em uma análise de componentes principais (PCA). Este critério sugere que apenas os componentes principais com autovalores maiores que 1 devem ser mantidos. Isso significa que apenas os componentes que explicam mais variância do que uma variável original são considerados significativos. O critério de Kaiser é simples de aplicar, mas pode ser conservador, às vezes retendo muitos componentes.\n",
    "\n",
    "https://naime-andere.notion.site/Crit-rio-de-Kaiser-2f99788590534cc2a34c809ae583febe?pvs=4"
   ]
  },
  {
   "cell_type": "code",
   "execution_count": 12,
   "id": "80569ab4",
   "metadata": {},
   "outputs": [],
   "source": [
    "# Há dois fatores derivados de autovalores > 1\n",
    "\n",
    "fa = FactorAnalyzer(n_factors=2, method='principal', rotation=None).fit(emprestimo_pca)"
   ]
  },
  {
   "cell_type": "markdown",
   "id": "b6aa4fe8",
   "metadata": {},
   "source": [
    "##### Eigenvalues, variâncias e variâncias acumuladas\n",
    "\n",
    "https://naime-andere.notion.site/Eigenvalues-valor-pr-prio-285a5b3d132247bfb94c79e3e2cb9a8e?pvs=4"
   ]
  },
  {
   "cell_type": "code",
   "execution_count": 13,
   "id": "fa43463e",
   "metadata": {},
   "outputs": [
    {
     "name": "stdout",
     "output_type": "stream",
     "text": [
      "         Autovalor  Variância  Variância Acumulada\n",
      "Fator 1   2.028007   0.338001             0.338001\n",
      "Fator 2   1.736660   0.289443             0.627444\n"
     ]
    }
   ],
   "source": [
    "autovalores_fatores = fa.get_factor_variance()\n",
    "\n",
    "tabela_eigen = pd.DataFrame(autovalores_fatores)\n",
    "tabela_eigen.columns = [f\"Fator {i+1}\" for i, v in enumerate(tabela_eigen.columns)]\n",
    "tabela_eigen.index = ['Autovalor','Variância', 'Variância Acumulada']\n",
    "tabela_eigen = tabela_eigen.T\n",
    "\n",
    "print(tabela_eigen)"
   ]
  },
  {
   "cell_type": "markdown",
   "id": "adc3eba0",
   "metadata": {},
   "source": [
    "##### Determinando as cargas fatoriais\n",
    "\n",
    "https://naime-andere.notion.site/Carga-Fatorial-da19f40a3f874f438edcd437f572106d?pvs=4\n"
   ]
  },
  {
   "cell_type": "code",
   "execution_count": 14,
   "id": "70b1474b",
   "metadata": {},
   "outputs": [
    {
     "name": "stdout",
     "output_type": "stream",
     "text": [
      "             Fator 1   Fator 2\n",
      "Age         0.959012  0.271073\n",
      "Experience  0.957367  0.277678\n",
      "Income     -0.301979  0.837176\n",
      "Family     -0.011960 -0.344334\n",
      "CCAvg      -0.295701  0.800263\n",
      "Mortgage   -0.113918  0.355280\n"
     ]
    }
   ],
   "source": [
    "cargas_fatoriais = fa.loadings_\n",
    "\n",
    "tabela_cargas = pd.DataFrame(cargas_fatoriais)\n",
    "tabela_cargas.columns = [f\"Fator {i+1}\" for i, v in enumerate(tabela_cargas.columns)]\n",
    "tabela_cargas.index = emprestimo_pca.columns\n",
    "\n",
    "print(tabela_cargas)"
   ]
  },
  {
   "cell_type": "markdown",
   "id": "318996de",
   "metadata": {},
   "source": [
    "##### Gráfico das cargas fatoriais (loading plot)"
   ]
  },
  {
   "cell_type": "code",
   "execution_count": 15,
   "id": "0c161ef9",
   "metadata": {},
   "outputs": [
    {
     "data": {
      "image/png": "[encoded data removed]",
      "text/plain": [
       "<Figure size 1200x800 with 1 Axes>"
      ]
     },
     "metadata": {},
     "output_type": "display_data"
    }
   ],
   "source": [
    "plt.figure(figsize=(12,8))\n",
    "tabela_cargas_chart = tabela_cargas.reset_index()\n",
    "plt.scatter(tabela_cargas_chart['Fator 1'], tabela_cargas_chart['Fator 2'], s=30, color='red')\n",
    "\n",
    "def label_point(x, y, val, ax):\n",
    "    a = pd.concat({'x': x, 'y': y, 'val': val}, axis=1)\n",
    "    for i, point in a.iterrows():\n",
    "        ax.text(point['x'] + 0.02, point['y'], point['val'], fontsize=8)\n",
    "\n",
    "label_point(x = tabela_cargas_chart['Fator 1'],\n",
    "            y = tabela_cargas_chart['Fator 2'],\n",
    "            val = tabela_cargas_chart['index'],\n",
    "            ax = plt.gca()) \n",
    "\n",
    "plt.axhline(y=0, color='grey', ls='--')\n",
    "plt.axvline(x=0, color='grey', ls='--')\n",
    "plt.ylim([-1.1,1.1])\n",
    "plt.xlim([-1.1,1.1])\n",
    "plt.title(\"Loading Plot\", fontsize=16)\n",
    "plt.xlabel(f\"Fator 1: {round(tabela_eigen.iloc[0]['Variância']*100,2)}% de variância explicada\", fontsize=12)\n",
    "plt.ylabel(f\"Fator 2: {round(tabela_eigen.iloc[1]['Variância']*100,2)}% de variância explicada\", fontsize=12)\n",
    "plt.show()\n"
   ]
  },
  {
   "cell_type": "markdown",
   "id": "73e24179",
   "metadata": {},
   "source": [
    "##### Determinando as comunalidades"
   ]
  },
  {
   "cell_type": "code",
   "execution_count": 16,
   "id": "03ef6e51",
   "metadata": {},
   "outputs": [
    {
     "name": "stdout",
     "output_type": "stream",
     "text": [
      "            Comunalidades\n",
      "Age              0.993184\n",
      "Experience       0.993658\n",
      "Income           0.792054\n",
      "Family           0.118709\n",
      "CCAvg            0.727860\n",
      "Mortgage         0.139201\n"
     ]
    }
   ],
   "source": [
    "comunalidades = fa.get_communalities()\n",
    "\n",
    "tabela_comunalidades = pd.DataFrame(comunalidades)\n",
    "tabela_comunalidades.columns = ['Comunalidades']\n",
    "tabela_comunalidades.index = emprestimo_pca.columns\n",
    "\n",
    "print(tabela_comunalidades)"
   ]
  },
  {
   "cell_type": "markdown",
   "id": "26ccd886",
   "metadata": {},
   "source": [
    "##### Extração dos fatores para as observações do banco de dados"
   ]
  },
  {
   "cell_type": "code",
   "execution_count": 17,
   "id": "7a1c46a7",
   "metadata": {},
   "outputs": [],
   "source": [
    "fatores = pd.DataFrame(fa.transform(emprestimo_pca))\n",
    "fatores.columns =  [f\"Fator {i+1}\" for i, v in enumerate(fatores.columns)]"
   ]
  },
  {
   "cell_type": "markdown",
   "id": "7d7dd6ca",
   "metadata": {},
   "source": [
    "#####  Identificando os scores fatoriais"
   ]
  },
  {
   "cell_type": "code",
   "execution_count": 18,
   "id": "6ae4c35a",
   "metadata": {},
   "outputs": [
    {
     "name": "stdout",
     "output_type": "stream",
     "text": [
      "             Fator 1   Fator 2\n",
      "Age         0.472884  0.156089\n",
      "Experience  0.472073  0.159892\n",
      "Income     -0.148904  0.482061\n",
      "Family     -0.005898 -0.198274\n",
      "CCAvg      -0.145809  0.460806\n",
      "Mortgage   -0.056173  0.204577\n"
     ]
    }
   ],
   "source": [
    "scores = fa.weights_\n",
    "\n",
    "tabela_scores = pd.DataFrame(scores)\n",
    "tabela_scores.columns = [f\"Fator {i+1}\" for i, v in enumerate(tabela_scores.columns)]\n",
    "tabela_scores.index = emprestimo_pca.columns\n",
    "\n",
    "print(tabela_scores)"
   ]
  },
  {
   "cell_type": "markdown",
   "id": "ae4beb6c",
   "metadata": {},
   "source": [
    "Em certos casos, a \"rotação de fatores\" pode melhorar a interpretação\n",
    "\n",
    "Analisando pelo loading plot, aplica-se a rotação dos eixos na origem (0,0)\n",
    "O método mais comum é a 'varimax', que é a rotação ortogonal dos fatores\n",
    "O objetivo é aumentar a carga fatorial em um fator e diminuir em outro\n",
    "Em resumo, trata-se de uma redistribuição de cargas fatoriais"
   ]
  },
  {
   "cell_type": "markdown",
   "id": "7bd36f1e",
   "metadata": {},
   "source": [
    "##### Adicionando a rotação: rotation='varimax'"
   ]
  },
  {
   "cell_type": "code",
   "execution_count": 19,
   "id": "40579522",
   "metadata": {},
   "outputs": [],
   "source": [
    "# Aplicando a rotação aos 2 fatores extraídos\n",
    "\n",
    "fa = FactorAnalyzer(n_factors=2, method='principal', rotation='varimax').fit(emprestimo_pca)"
   ]
  },
  {
   "cell_type": "markdown",
   "id": "1df1047a",
   "metadata": {},
   "source": [
    "###### Eigenvalues, variâncias e variâncias acumuladas"
   ]
  },
  {
   "cell_type": "code",
   "execution_count": 20,
   "id": "5da789f3",
   "metadata": {},
   "outputs": [
    {
     "name": "stdout",
     "output_type": "stream",
     "text": [
      "         Autovalor  Variância  Variância Acumulada\n",
      "Fator 1   2.007323   0.334554             0.334554\n",
      "Fator 2   1.757344   0.292891             0.627444\n"
     ]
    }
   ],
   "source": [
    "autovalores_fatores = fa.get_factor_variance()\n",
    "\n",
    "tabela_eigen = pd.DataFrame(autovalores_fatores)\n",
    "tabela_eigen.columns = [f\"Fator {i+1}\" for i, v in enumerate(tabela_eigen.columns)]\n",
    "tabela_eigen.index = ['Autovalor','Variância', 'Variância Acumulada']\n",
    "tabela_eigen = tabela_eigen.T\n",
    "\n",
    "print(tabela_eigen)\n",
    "\n",
    "# Há a redistribuição da variância entre os fatores (mas o total é o mesmo!)"
   ]
  },
  {
   "cell_type": "markdown",
   "id": "db1a5ebf",
   "metadata": {},
   "source": [
    "##### Determinando as cargas fatoriais"
   ]
  },
  {
   "cell_type": "code",
   "execution_count": 21,
   "id": "dcf5f90d",
   "metadata": {},
   "outputs": [
    {
     "name": "stdout",
     "output_type": "stream",
     "text": [
      "             Fator 1   Fator 2\n",
      "Age         0.996570  0.005748\n",
      "Experience  0.996745  0.012552\n",
      "Income     -0.067999  0.887373\n",
      "Family     -0.103275 -0.328699\n",
      "CCAvg      -0.071784  0.850122\n",
      "Mortgage   -0.015137  0.372790\n"
     ]
    }
   ],
   "source": [
    "cargas_fatoriais = fa.loadings_\n",
    "\n",
    "tabela_cargas = pd.DataFrame(cargas_fatoriais)\n",
    "tabela_cargas.columns = [f\"Fator {i+1}\" for i, v in enumerate(tabela_cargas.columns)]\n",
    "tabela_cargas.index = emprestimo_pca.columns\n",
    "\n",
    "print(tabela_cargas)\n",
    "\n",
    "## As cargas são alteradas: cargas fatoriais rotacionadas\n"
   ]
  },
  {
   "cell_type": "markdown",
   "id": "503deedc",
   "metadata": {},
   "source": [
    "##### Gráfico das cargas fatoriais (loading plot)"
   ]
  },
  {
   "cell_type": "code",
   "execution_count": 22,
   "id": "10e04385",
   "metadata": {},
   "outputs": [
    {
     "data": {
      "image/png": "[encoded data removed]",
      "text/plain": [
       "<Figure size 1200x800 with 1 Axes>"
      ]
     },
     "metadata": {},
     "output_type": "display_data"
    }
   ],
   "source": [
    "plt.figure(figsize=(12,8))\n",
    "tabela_cargas_chart = tabela_cargas.reset_index()\n",
    "plt.scatter(tabela_cargas_chart['Fator 1'], tabela_cargas_chart['Fator 2'], s=30, color='blue')\n",
    "\n",
    "def label_point(x, y, val, ax):\n",
    "    a = pd.concat({'x': x, 'y': y, 'val': val}, axis=1)\n",
    "    for i, point in a.iterrows():\n",
    "        ax.text(point['x'] + 0.02, point['y'], point['val'], fontsize=8)\n",
    "\n",
    "label_point(x = tabela_cargas_chart['Fator 1'],\n",
    "            y = tabela_cargas_chart['Fator 2'],\n",
    "            val = tabela_cargas_chart['index'],\n",
    "            ax = plt.gca()) \n",
    "\n",
    "plt.axhline(y=0, color='grey', ls='--')\n",
    "plt.axvline(x=0, color='grey', ls='--')\n",
    "plt.ylim([-1.1,1.1])\n",
    "plt.xlim([-1.1,1.1])\n",
    "plt.title(\"Loading Plot - Fatores Rotacionados\", fontsize=16)\n",
    "plt.xlabel(f\"Fator 1: {round(tabela_eigen.iloc[0]['Variância']*100,2)}% de variância explicada\", fontsize=12)\n",
    "plt.ylabel(f\"Fator 2: {round(tabela_eigen.iloc[1]['Variância']*100,2)}% de variância explicada\", fontsize=12)\n",
    "plt.show()\n"
   ]
  },
  {
   "cell_type": "markdown",
   "id": "0e6ad87d",
   "metadata": {},
   "source": [
    "##### Determinando as comunalidades"
   ]
  },
  {
   "cell_type": "code",
   "execution_count": 23,
   "id": "485cd8ff",
   "metadata": {},
   "outputs": [
    {
     "name": "stdout",
     "output_type": "stream",
     "text": [
      "            Comunalidades\n",
      "Age              0.993184\n",
      "Experience       0.993658\n",
      "Income           0.792054\n",
      "Family           0.118709\n",
      "CCAvg            0.727860\n",
      "Mortgage         0.139201\n"
     ]
    }
   ],
   "source": [
    "comunalidades = fa.get_communalities()\n",
    "\n",
    "tabela_comunalidades = pd.DataFrame(comunalidades)\n",
    "tabela_comunalidades.columns = ['Comunalidades']\n",
    "tabela_comunalidades.index = emprestimo_pca.columns\n",
    "\n",
    "print(tabela_comunalidades)\n",
    "\n",
    "# As comunalidades não mudam!"
   ]
  },
  {
   "cell_type": "markdown",
   "id": "29d91688",
   "metadata": {},
   "source": [
    "##### Extração dos fatores para as observações do banco de dados"
   ]
  },
  {
   "cell_type": "code",
   "execution_count": 24,
   "id": "02ce2298",
   "metadata": {},
   "outputs": [],
   "source": [
    "fatores = pd.DataFrame(fa.transform(emprestimo_pca))\n",
    "fatores.columns =  [f\"Fator {i+1}\" for i, v in enumerate(fatores.columns)]\n",
    "\n",
    "# Adicionando os fatores ao banco de dados\n",
    "\n",
    "emprestimo = pd.concat([emprestimo.reset_index(drop=True), fatores], axis=1)"
   ]
  },
  {
   "cell_type": "markdown",
   "id": "b6117c9b",
   "metadata": {},
   "source": [
    "##### Identificando os scores fatoriais"
   ]
  },
  {
   "cell_type": "code",
   "execution_count": 25,
   "id": "2b8b7b48",
   "metadata": {},
   "outputs": [
    {
     "name": "stdout",
     "output_type": "stream",
     "text": [
      "             Fator 1   Fator 2\n",
      "Age         0.497378  0.024448\n",
      "Experience  0.497610  0.028330\n",
      "Income     -0.015077  0.504309\n",
      "Family     -0.058514 -0.189535\n",
      "CCAvg      -0.017757  0.482998\n",
      "Mortgage    0.000367  0.212148\n"
     ]
    }
   ],
   "source": [
    "scores = fa.weights_\n",
    "\n",
    "tabela_scores = pd.DataFrame(scores)\n",
    "tabela_scores.columns = [f\"Fator {i+1}\" for i, v in enumerate(tabela_scores.columns)]\n",
    "tabela_scores.index = emprestimo_pca.columns\n",
    "\n",
    "print(tabela_scores)\n",
    "\n",
    "## Os scores são alterados, o que geram fatores rotacionados!"
   ]
  },
  {
   "cell_type": "markdown",
   "id": "8a061487",
   "metadata": {},
   "source": [
    "##### Interpretando os scores fatoriais em cada fator extraído"
   ]
  },
  {
   "cell_type": "code",
   "execution_count": 26,
   "id": "928f20d1",
   "metadata": {},
   "outputs": [
    {
     "data": {
      "image/png": "[encoded data removed]",
      "text/plain": [
       "<Figure size 640x480 with 1 Axes>"
      ]
     },
     "metadata": {},
     "output_type": "display_data"
    }
   ],
   "source": [
    "tabela_scores_graph = tabela_scores.reset_index()\n",
    "tabela_scores_graph = tabela_scores_graph.melt(id_vars='index')\n",
    "\n",
    "sns.barplot(data=tabela_scores_graph, x='variable', y='value', hue='index', palette='viridis')\n",
    "plt.legend(title='Variáveis', bbox_to_anchor=(1,1), fontsize = '6')\n",
    "plt.title('Scores Fatoriais', fontsize='12')\n",
    "plt.xlabel(xlabel=None)\n",
    "plt.ylabel(ylabel=None)\n",
    "plt.show()"
   ]
  },
  {
   "cell_type": "markdown",
   "id": "673e97db",
   "metadata": {},
   "source": [
    "##### Os fatores continuam ortogonais"
   ]
  },
  {
   "cell_type": "code",
   "execution_count": 27,
   "id": "7c3bda92",
   "metadata": {},
   "outputs": [
    {
     "name": "stderr",
     "output_type": "stream",
     "text": [
      "C:\\Users\\naime\\AppData\\Roaming\\Python\\Python311\\site-packages\\pingouin\\correlation.py:1116: FutureWarning:\n",
      "\n",
      "DataFrame.applymap has been deprecated. Use DataFrame.map instead.\n",
      "\n"
     ]
    },
    {
     "data": {
      "text/html": [
       "<div>\n",
       "<style scoped>\n",
       "    .dataframe tbody tr th:only-of-type {\n",
       "        vertical-align: middle;\n",
       "    }\n",
       "\n",
       "    .dataframe tbody tr th {\n",
       "        vertical-align: top;\n",
       "    }\n",
       "\n",
       "    .dataframe thead th {\n",
       "        text-align: right;\n",
       "    }\n",
       "</style>\n",
       "<table border=\"1\" class=\"dataframe\">\n",
       "  <thead>\n",
       "    <tr style=\"text-align: right;\">\n",
       "      <th></th>\n",
       "      <th>Fator 1</th>\n",
       "      <th>Fator 2</th>\n",
       "    </tr>\n",
       "  </thead>\n",
       "  <tbody>\n",
       "    <tr>\n",
       "      <th>Fator 1</th>\n",
       "      <td>-</td>\n",
       "      <td></td>\n",
       "    </tr>\n",
       "    <tr>\n",
       "      <th>Fator 2</th>\n",
       "      <td>0.0</td>\n",
       "      <td>-</td>\n",
       "    </tr>\n",
       "  </tbody>\n",
       "</table>\n",
       "</div>"
      ],
      "text/plain": [
       "        Fator 1 Fator 2\n",
       "Fator 1       -        \n",
       "Fator 2     0.0       -"
      ]
     },
     "execution_count": 27,
     "metadata": {},
     "output_type": "execute_result"
    }
   ],
   "source": [
    "pg.rcorr(emprestimo[['Fator 1', 'Fator 2']], \n",
    "         method = 'pearson', upper = 'pval', \n",
    "         decimals = 4, \n",
    "         pval_stars = {0.01: '***', 0.05: '**', 0.10: '*'})"
   ]
  },
  {
   "cell_type": "code",
   "execution_count": null,
   "id": "4072e4dc",
   "metadata": {},
   "outputs": [],
   "source": []
  },
  {
   "cell_type": "code",
   "execution_count": null,
   "id": "43b05037",
   "metadata": {},
   "outputs": [],
   "source": []
  }
 ],
 "metadata": {
  "kernelspec": {
   "display_name": "Python 3 (ipykernel)",
   "language": "python",
   "name": "python3"
  },
  "language_info": {
   "codemirror_mode": {
    "name": "ipython",
    "version": 3
   },
   "file_extension": ".py",
   "mimetype": "text/x-python",
   "name": "python",
   "nbconvert_exporter": "python",
   "pygments_lexer": "ipython3",
   "version": "3.11.5"
  }
 },
 "nbformat": 4,
 "nbformat_minor": 5
}
