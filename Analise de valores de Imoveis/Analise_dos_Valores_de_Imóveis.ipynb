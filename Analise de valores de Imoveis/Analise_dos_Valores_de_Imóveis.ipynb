{
 "cells": [
  {
   "cell_type": "markdown",
   "id": "a81d61f4",
   "metadata": {},
   "source": [
    "## Análise Fatorial PCA\n",
    "### Naime Andere\n",
    "\n",
    "#### Project: Analise dos valores de imóveis\n",
    "\n",
    "Content: https://naime-andere.notion.site/Unsupervised-Machine-Learning-An-lise-Fatorial-e-PCA-be9a43fe565a46d3ba021575fd18073d?pvs=4\n",
    "\n",
    "Linkedin: https://www.linkedin.com/in/naimeandere/ \n",
    "\n",
    "Github: https://github.com/NaimeAndere"
   ]
  },
  {
   "cell_type": "markdown",
   "id": "2f60cdbc",
   "metadata": {},
   "source": [
    "##### Instalando os pacotes"
   ]
  },
  {
   "cell_type": "code",
   "execution_count": 2,
   "id": "44e3a2ba",
   "metadata": {},
   "outputs": [
    {
     "name": "stdout",
     "output_type": "stream",
     "text": [
      "Defaulting to user installation because normal site-packages is not writeable\n",
      "Requirement already satisfied: pyshp in c:\\users\\naime\\appdata\\roaming\\python\\python311\\site-packages (2.3.1)\n"
     ]
    }
   ],
   "source": [
    "!pip install pandas\n",
    "!pip install numpy\n",
    "!pip install factor_analyzer\n",
    "!pip install sympy\n",
    "!pip install scipy\n",
    "!pip install matplotlib\n",
    "!pip install seaborn\n",
    "!pip install plotly\n",
    "!pip install pingouin\n",
    "!pip install pyshp"
   ]
  },
  {
   "cell_type": "markdown",
   "id": "00baba0f",
   "metadata": {},
   "source": [
    "##### Importando os pacotes necessários"
   ]
  },
  {
   "cell_type": "code",
   "execution_count": 3,
   "id": "eaa3654e",
   "metadata": {},
   "outputs": [],
   "source": [
    "import pandas as pd\n",
    "import numpy as np\n",
    "from factor_analyzer import FactorAnalyzer\n",
    "from factor_analyzer.factor_analyzer import calculate_bartlett_sphericity\n",
    "import pingouin as pg\n",
    "import matplotlib.pyplot as plt\n",
    "import seaborn as sns\n",
    "import plotly.io as pio\n",
    "pio.renderers.default = 'browser'\n",
    "import plotly.graph_objects as go"
   ]
  },
  {
   "cell_type": "markdown",
   "id": "a36b099c",
   "metadata": {},
   "source": [
    "##### Importando o banco de dados"
   ]
  },
  {
   "cell_type": "code",
   "execution_count": 4,
   "id": "55f1ed05",
   "metadata": {},
   "outputs": [],
   "source": [
    "casas = pd.read_excel(\"preco_casas.xlsx\")\n",
    "# Fonte: adaptado de https://www.kaggle.com/datasets/elakiricoder/jiffs-house-price-prediction-dataset"
   ]
  },
  {
   "cell_type": "markdown",
   "id": "1e6a4270",
   "metadata": {},
   "source": [
    "É possível extrairmos fatores que capturem o preço de venda das casas?"
   ]
  },
  {
   "cell_type": "code",
   "execution_count": 5,
   "id": "aad7ff98",
   "metadata": {},
   "outputs": [],
   "source": [
    "#Criar a Estatísticas descritiva das variáveis\n",
    "tab_desc = casas.describe()"
   ]
  },
  {
   "cell_type": "code",
   "execution_count": 6,
   "id": "273fefc0",
   "metadata": {},
   "outputs": [
    {
     "name": "stdout",
     "output_type": "stream",
     "text": [
      "       land_size_sqm  house_size_sqm  no_of_rooms  no_of_bathrooms  \\\n",
      "count    4954.000000     4954.000000  4954.000000      4954.000000   \n",
      "mean      250.131409      231.250908     3.788252         3.199839   \n",
      "std       103.131939       94.571642     1.585371         1.602300   \n",
      "min       100.000000       85.000000     1.000000         1.000000   \n",
      "25%       180.000000      165.000000     3.000000         2.000000   \n",
      "50%       235.000000      217.500000     4.000000         3.000000   \n",
      "75%       295.000000      274.000000     5.000000         4.000000   \n",
      "max       796.000000      760.000000     8.000000         9.000000   \n",
      "\n",
      "       distance_to_school    house_age  distance_to_supermarket_km  \\\n",
      "count         4954.000000  4954.000000                 4954.000000   \n",
      "mean             3.454219    11.444691                    3.508639   \n",
      "std              2.007358     6.356991                    1.991266   \n",
      "min              0.100000     1.000000                    0.100000   \n",
      "25%              1.700000     6.000000                    1.800000   \n",
      "50%              3.400000    11.000000                    3.500000   \n",
      "75%              5.200000    17.000000                    5.300000   \n",
      "max              6.900000    22.000000                    6.900000   \n",
      "\n",
      "       crime_rate_index  property_value  \n",
      "count       4954.000000     4954.000000  \n",
      "mean           2.986110   201974.738999  \n",
      "std            1.737742    90031.882219  \n",
      "min            0.010000    32622.000000  \n",
      "25%            1.470000   136777.000000  \n",
      "50%            3.020000   194515.500000  \n",
      "75%            4.490000   246590.000000  \n",
      "max            5.990000   692086.000000  \n"
     ]
    }
   ],
   "source": [
    "print(tab_desc)"
   ]
  },
  {
   "cell_type": "markdown",
   "id": "63f61ae2",
   "metadata": {},
   "source": [
    "#####  Analisando as correlações de Pearson"
   ]
  },
  {
   "cell_type": "code",
   "execution_count": 7,
   "id": "f5c5f429",
   "metadata": {},
   "outputs": [],
   "source": [
    "# Matriz de correlações\n",
    "corr = casas.corr()"
   ]
  },
  {
   "cell_type": "code",
   "execution_count": 8,
   "id": "3c920427",
   "metadata": {},
   "outputs": [],
   "source": [
    "# Gráfico interativo -> PLOTLY\n",
    "\n",
    "fig = go.Figure()\n",
    "\n",
    "fig.add_trace(\n",
    "    go.Heatmap(\n",
    "        x = corr.columns,\n",
    "        y = corr.index,\n",
    "        z = np.array(corr),\n",
    "        text=corr.values,\n",
    "        texttemplate='%{text:.3f}',\n",
    "        colorscale='viridis'))\n",
    "\n",
    "fig.update_layout(\n",
    "    height = 750,\n",
    "    width = 750,\n",
    "    yaxis=dict(autorange=\"reversed\"))\n",
    "\n",
    "fig.show()"
   ]
  },
  {
   "cell_type": "markdown",
   "id": "575e7807",
   "metadata": {},
   "source": [
    "##### Selecionando as variáveis de interesse para a análise"
   ]
  },
  {
   "cell_type": "code",
   "execution_count": 10,
   "id": "47b8a043",
   "metadata": {},
   "outputs": [],
   "source": [
    "# Vamos deixar o preço das casas de fora da análise fatorial! \n",
    "\n",
    "casas_pca = casas.drop(columns=['property_value'])"
   ]
  },
  {
   "cell_type": "markdown",
   "id": "491861c2",
   "metadata": {},
   "source": [
    "#####  Teste de Esfericidade de Bartlett\n",
    "\n",
    "O Teste de Esfericidade de Bartlett verifica se as variáveis de uma matriz de covariância são independentes. Ele testa se a matriz é uma matriz identidade. Se o valor p for menor que 0,05, rejeitamos a hipótese nula de independência. O teste é usado em análise fatorial e análise de componentes principais para avaliar a adequação dos dados. É sensível ao tamanho da amostra e assume normalidade dos dados.\n",
    "\n",
    "https://naime-andere.notion.site/Teste-de-Esfericidade-de-Bartlett-62c3e50545244a979157409a9329a897?pvs=4"
   ]
  },
  {
   "cell_type": "code",
   "execution_count": 13,
   "id": "8a062093",
   "metadata": {
    "scrolled": true
   },
   "outputs": [
    {
     "name": "stdout",
     "output_type": "stream",
     "text": [
      "Qui² Bartlett: 31857.46\n",
      "p-valor: 0.0\n"
     ]
    }
   ],
   "source": [
    "bartlett, p_value = calculate_bartlett_sphericity(casas_pca)\n",
    "\n",
    "print(f'Qui² Bartlett: {round(bartlett, 2)}')\n",
    "print(f'p-valor: {round(p_value, 4)}')"
   ]
  },
  {
   "cell_type": "markdown",
   "id": "309f1f85",
   "metadata": {},
   "source": [
    "##### Teste de hipótese com p-valor\n",
    "\n",
    "https://naime-andere.notion.site/Hip-teses-nula-H0-e-Hip-tese-alternativa-H1-82d211f321b646ac87d2d258e2296ce4?pvs=4"
   ]
  },
  {
   "cell_type": "markdown",
   "id": "5ac1e829",
   "metadata": {},
   "source": [
    "##### Definindo a PCA (procedimento inicial extraindo todos os fatores possíveis)\n",
    "\n",
    "A Análise de Componentes Principais (PCA) é uma técnica de redução de dimensionalidade que transforma dados em um novo conjunto de variáveis não correlacionadas chamadas componentes principais. Esses componentes são ordenados por variância, com o primeiro componente capturando a maior variância nos dados. A PCA é usada para simplificar dados, reduzir ruído e melhorar a visualização. Ela é amplamente aplicada em áreas como processamento de imagens, reconhecimento de padrões e análise de dados.\n",
    "\n",
    "https://naime-andere.notion.site/PCA-An-lise-de-Componentes-Principais-7e3824084cea4998a86b06c0e32434de?pvs=4"
   ]
  },
  {
   "cell_type": "code",
   "execution_count": 14,
   "id": "4e138382",
   "metadata": {},
   "outputs": [],
   "source": [
    "fa = FactorAnalyzer(n_factors=8, method='principal', rotation=None).fit(casas_pca)"
   ]
  },
  {
   "cell_type": "markdown",
   "id": "33976a60",
   "metadata": {},
   "source": [
    "##### Obtendo os autovalores  //  autovalores totalizam o valor das quantidade de variavies\n",
    "\n",
    "Autovalores são números que representam a quantidade de variância explicada por cada componente principal em uma análise de componentes principais (PCA). Eles são obtidos a partir da matriz de covariância dos dados. Autovalores maiores indicam componentes principais que explicam mais variância nos dados. A soma de todos os autovalores é igual à variância total dos dados. Autovalores são usados para determinar o número de componentes principais a serem retidos para análise.\n",
    "\n",
    "https://naime-andere.notion.site/Autovalores-e-Autovetores-eff71adb32a248fa934a3b0124e2e142?pvs=4"
   ]
  },
  {
   "cell_type": "code",
   "execution_count": 15,
   "id": "164e273c",
   "metadata": {},
   "outputs": [
    {
     "name": "stdout",
     "output_type": "stream",
     "text": [
      "[3.44078793 1.01989592 1.01155913 0.99164638 0.97675882 0.42231466\n",
      " 0.128448   0.00858917]\n"
     ]
    },
    {
     "data": {
      "text/plain": [
       "8.0"
      ]
     },
     "execution_count": 15,
     "metadata": {},
     "output_type": "execute_result"
    }
   ],
   "source": [
    "autovalores = fa.get_eigenvalues()[0]\n",
    "\n",
    "print(autovalores)\n",
    "\n",
    "# Soma dos autovalores\n",
    "\n",
    "round(autovalores.sum(), 3)"
   ]
  },
  {
   "cell_type": "markdown",
   "id": "f8d8ffc7",
   "metadata": {},
   "source": [
    "##### Critério de Kaiser (raiz latente)\n",
    "\n",
    "O critério de Kaiser, também conhecido como regra da raiz latente, é um método para determinar o número de componentes principais a serem retidos em uma análise de componentes principais (PCA). Este critério sugere que apenas os componentes principais com autovalores maiores que 1 devem ser mantidos. Isso significa que apenas os componentes que explicam mais variância do que uma variável original são considerados significativos. O critério de Kaiser é simples de aplicar, mas pode ser conservador, às vezes retendo muitos componentes.\n",
    "\n",
    "https://naime-andere.notion.site/Crit-rio-de-Kaiser-2f99788590534cc2a34c809ae583febe?pvs=4"
   ]
  },
  {
   "cell_type": "code",
   "execution_count": 16,
   "id": "aa174967",
   "metadata": {},
   "outputs": [],
   "source": [
    "# Temos 3 autovalores maiores do que 1\n",
    "# Vamos parametrizar a função para a extração de 3 fatores!\n",
    "\n",
    "fa = FactorAnalyzer(n_factors=3, method='principal', rotation=None).fit(casas_pca)"
   ]
  },
  {
   "cell_type": "markdown",
   "id": "1393f6c5",
   "metadata": {},
   "source": [
    "##### Eigenvalues, variâncias e variâncias acumuladas\n",
    "\n",
    "\n",
    "https://naime-andere.notion.site/Eigenvalues-valor-pr-prio-285a5b3d132247bfb94c79e3e2cb9a8e?pvs=4"
   ]
  },
  {
   "cell_type": "code",
   "execution_count": 17,
   "id": "1672ff4a",
   "metadata": {
    "scrolled": true
   },
   "outputs": [
    {
     "name": "stdout",
     "output_type": "stream",
     "text": [
      "         Autovalor  Variância  Variância Acumulada\n",
      "Fator 1   3.440788   0.430098             0.430098\n",
      "Fator 2   1.019896   0.127487             0.557585\n",
      "Fator 3   1.011559   0.126445             0.684030\n"
     ]
    }
   ],
   "source": [
    "autovalores_fatores = fa.get_factor_variance()\n",
    "\n",
    "tabela_eigen = pd.DataFrame(autovalores_fatores)\n",
    "tabela_eigen.columns = [f\"Fator {i+1}\" for i, v in enumerate(tabela_eigen.columns)]\n",
    "tabela_eigen.index = ['Autovalor','Variância', 'Variância Acumulada']\n",
    "tabela_eigen = tabela_eigen.T\n",
    "\n",
    "print(tabela_eigen)"
   ]
  },
  {
   "cell_type": "markdown",
   "id": "16e52a5b",
   "metadata": {},
   "source": [
    "##### Gráfico da variância acumulada dos componentes principais"
   ]
  },
  {
   "cell_type": "code",
   "execution_count": 18,
   "id": "83706601",
   "metadata": {},
   "outputs": [
    {
     "name": "stderr",
     "output_type": "stream",
     "text": [
      "C:\\Users\\naime\\AppData\\Local\\Temp\\ipykernel_24244\\2940938648.py:2: FutureWarning:\n",
      "\n",
      "\n",
      "\n",
      "Passing `palette` without assigning `hue` is deprecated and will be removed in v0.14.0. Assign the `x` variable to `hue` and set `legend=False` for the same effect.\n",
      "\n",
      "\n"
     ]
    },
    {
     "data": {
      "image/png": "[encoded data removed]",
      "text/plain": [
       "<Figure size 1200x800 with 1 Axes>"
      ]
     },
     "metadata": {},
     "output_type": "display_data"
    }
   ],
   "source": [
    "plt.figure(figsize=(12,8))\n",
    "ax = sns.barplot(x=tabela_eigen.index, y=tabela_eigen['Variância'], data=tabela_eigen, palette='pastel')\n",
    "ax.bar_label(ax.containers[0])\n",
    "plt.title(\"Fatores Extraídos\", fontsize=16)\n",
    "plt.xlabel(f\"{tabela_eigen.shape[0]} fatores que explicam {round(tabela_eigen['Variância'].sum()*100,2)}% da variância\", fontsize=12)\n",
    "plt.ylabel(\"Porcentagem de variância explicada\", fontsize=12)\n",
    "plt.show()"
   ]
  },
  {
   "cell_type": "markdown",
   "id": "0a476025",
   "metadata": {},
   "source": [
    "##### Determinando as cargas fatoriais"
   ]
  },
  {
   "cell_type": "code",
   "execution_count": 19,
   "id": "462872fd",
   "metadata": {},
   "outputs": [
    {
     "name": "stdout",
     "output_type": "stream",
     "text": [
      "                             Fator 1   Fator 2   Fator 3\n",
      "land_size_sqm               0.969318  0.000670  0.003416\n",
      "house_size_sqm              0.967866 -0.000800  0.005045\n",
      "no_of_rooms                 0.948705 -0.002536  0.002939\n",
      "no_of_bathrooms             0.814810 -0.002453 -0.002870\n",
      "distance_to_school         -0.013787  0.349991  0.642441\n",
      "house_age                   0.007448  0.080374  0.692606\n",
      "distance_to_supermarket_km -0.000987  0.720297 -0.113461\n",
      "crime_rate_index            0.015520  0.610001 -0.325882\n"
     ]
    }
   ],
   "source": [
    "cargas_fatoriais = fa.loadings_\n",
    "\n",
    "tabela_cargas = pd.DataFrame(cargas_fatoriais)\n",
    "tabela_cargas.columns = [f\"Fator {i+1}\" for i, v in enumerate(tabela_cargas.columns)]\n",
    "tabela_cargas.index = casas_pca.columns\n",
    "\n",
    "print(tabela_cargas)\n"
   ]
  },
  {
   "cell_type": "markdown",
   "id": "40ef9d6c",
   "metadata": {},
   "source": [
    "##### Analisando as cargas fatoriais em cada fator extraído"
   ]
  },
  {
   "cell_type": "code",
   "execution_count": 20,
   "id": "300628f0",
   "metadata": {},
   "outputs": [
    {
     "data": {
      "image/png": "[encoded data removed]",
      "text/plain": [
       "<Figure size 1200x800 with 1 Axes>"
      ]
     },
     "metadata": {},
     "output_type": "display_data"
    }
   ],
   "source": [
    "plt.figure(figsize=(12,8))\n",
    "tabela_cargas_graph = tabela_cargas.reset_index()\n",
    "tabela_cargas_graph = tabela_cargas_graph.melt(id_vars='index')\n",
    "\n",
    "sns.barplot(data=tabela_cargas_graph, x='variable', y='value', hue='index', palette='bright')\n",
    "plt.legend(title='Variáveis', bbox_to_anchor=(1,1), fontsize = '6')\n",
    "plt.title('Cargas Fatoriais', fontsize='12')\n",
    "plt.xlabel(xlabel=None)\n",
    "plt.ylabel(ylabel=None)\n",
    "plt.show()"
   ]
  },
  {
   "cell_type": "markdown",
   "id": "114ee9f1",
   "metadata": {},
   "source": [
    "##### Determinando as comunalidades"
   ]
  },
  {
   "cell_type": "code",
   "execution_count": 21,
   "id": "bd1405d7",
   "metadata": {},
   "outputs": [
    {
     "name": "stdout",
     "output_type": "stream",
     "text": [
      "                            Comunalidades\n",
      "land_size_sqm                    0.939590\n",
      "house_size_sqm                   0.936791\n",
      "no_of_rooms                      0.900057\n",
      "no_of_bathrooms                  0.663930\n",
      "distance_to_school               0.535414\n",
      "house_age                        0.486218\n",
      "distance_to_supermarket_km       0.531702\n",
      "crime_rate_index                 0.478541\n"
     ]
    }
   ],
   "source": [
    "comunalidades = fa.get_communalities()\n",
    "\n",
    "tabela_comunalidades = pd.DataFrame(comunalidades)\n",
    "tabela_comunalidades.columns = ['Comunalidades']\n",
    "tabela_comunalidades.index = casas_pca.columns\n",
    "\n",
    "print(tabela_comunalidades)"
   ]
  },
  {
   "cell_type": "markdown",
   "id": "966b2846",
   "metadata": {},
   "source": [
    "##### Extração dos fatores para as observações do banco de dados"
   ]
  },
  {
   "cell_type": "code",
   "execution_count": 22,
   "id": "fb71a9f0",
   "metadata": {},
   "outputs": [],
   "source": [
    "fatores = pd.DataFrame(fa.transform(casas_pca))\n",
    "fatores.columns =  [f\"Fator {i+1}\" for i, v in enumerate(fatores.columns)]\n",
    "\n",
    "# Adicionando os fatores ao banco de dados\n",
    "\n",
    "casas = pd.concat([casas.reset_index(drop=True), fatores], axis=1)"
   ]
  },
  {
   "cell_type": "markdown",
   "id": "09ce88cb",
   "metadata": {},
   "source": [
    "##### Identificando os scores fatoriais\n",
    "\n",
    "Scores fatoriais são valores que representam a associação de cada observação com fatores latentes identificados na análise fatorial. Eles são calculados usando métodos como regressão ou máxima verossimilhança. Esses scores ajudam a reduzir a dimensionalidade dos dados e a entender a estrutura subjacente, mostrando como cada observação se relaciona com os fatores. A magnitude e o sinal dos scores indicam a força e a direção dessa associação. Eles são úteis para perfilar observações, realizar análises subsequentes e visualizar padrões nos dados.\n",
    "\n",
    "https://naime-andere.notion.site/Scores-fatoriais-8441ba8c5b0f498f88e60ae9b305646c?pvs=4"
   ]
  },
  {
   "cell_type": "code",
   "execution_count": 23,
   "id": "0c7864e1",
   "metadata": {},
   "outputs": [
    {
     "name": "stdout",
     "output_type": "stream",
     "text": [
      "                             Fator 1   Fator 2   Fator 3\n",
      "land_size_sqm               0.281714  0.000657  0.003377\n",
      "house_size_sqm              0.281292 -0.000784  0.004987\n",
      "no_of_rooms                 0.275723 -0.002487  0.002906\n",
      "no_of_bathrooms             0.236809 -0.002405 -0.002837\n",
      "distance_to_school         -0.004007  0.343163  0.635100\n",
      "house_age                   0.002165  0.078806  0.684691\n",
      "distance_to_supermarket_km -0.000287  0.706245 -0.112164\n",
      "crime_rate_index            0.004510  0.598101 -0.322158\n"
     ]
    }
   ],
   "source": [
    "scores = fa.weights_\n",
    "\n",
    "tabela_scores = pd.DataFrame(scores)\n",
    "tabela_scores.columns = [f\"Fator {i+1}\" for i, v in enumerate(tabela_scores.columns)]\n",
    "tabela_scores.index = casas_pca.columns\n",
    "\n",
    "print(tabela_scores)"
   ]
  },
  {
   "cell_type": "markdown",
   "id": "7c56bc67",
   "metadata": {},
   "source": [
    "##### Analisando os scores fatoriais em cada fator extraído"
   ]
  },
  {
   "cell_type": "code",
   "execution_count": 24,
   "id": "5d8ab744",
   "metadata": {},
   "outputs": [
    {
     "data": {
      "image/png": "[encoded data removed]",
      "text/plain": [
       "<Figure size 640x480 with 1 Axes>"
      ]
     },
     "metadata": {},
     "output_type": "display_data"
    }
   ],
   "source": [
    "tabela_scores_graph = tabela_scores.reset_index()\n",
    "tabela_scores_graph = tabela_scores_graph.melt(id_vars='index')\n",
    "\n",
    "sns.barplot(data=tabela_scores_graph, x='variable', y='value', hue='index', palette='rocket')\n",
    "plt.legend(title='Variáveis', bbox_to_anchor=(1,1), fontsize = '6')\n",
    "plt.title('Scores Fatoriais', fontsize='12')\n",
    "plt.xlabel(xlabel=None)\n",
    "plt.ylabel(ylabel=None)\n",
    "plt.show()"
   ]
  },
  {
   "cell_type": "markdown",
   "id": "3d37af28",
   "metadata": {},
   "source": [
    "##### Ranking\n",
    "\n",
    "consolidar os 3 fatores em uma medida única (soma ponderada)"
   ]
  },
  {
   "cell_type": "code",
   "execution_count": 25,
   "id": "7080ed17",
   "metadata": {},
   "outputs": [],
   "source": [
    "casas['Ranking'] = 0\n",
    "\n",
    "for index, item in enumerate(list(tabela_eigen.index)):\n",
    "    variancia = tabela_eigen.loc[item]['Variância']\n",
    "\n",
    "    casas['Ranking'] = casas['Ranking'] + casas[tabela_eigen.index[index]]*variancia"
   ]
  },
  {
   "cell_type": "markdown",
   "id": "35d51327",
   "metadata": {},
   "source": [
    "Os preços alinham-se às características representadas nos fatores?"
   ]
  },
  {
   "cell_type": "code",
   "execution_count": 26,
   "id": "aa995154",
   "metadata": {},
   "outputs": [
    {
     "name": "stderr",
     "output_type": "stream",
     "text": [
      "C:\\Users\\naime\\AppData\\Roaming\\Python\\Python311\\site-packages\\pingouin\\correlation.py:1116: FutureWarning:\n",
      "\n",
      "DataFrame.applymap has been deprecated. Use DataFrame.map instead.\n",
      "\n"
     ]
    },
    {
     "data": {
      "text/html": [
       "<div>\n",
       "<style scoped>\n",
       "    .dataframe tbody tr th:only-of-type {\n",
       "        vertical-align: middle;\n",
       "    }\n",
       "\n",
       "    .dataframe tbody tr th {\n",
       "        vertical-align: top;\n",
       "    }\n",
       "\n",
       "    .dataframe thead th {\n",
       "        text-align: right;\n",
       "    }\n",
       "</style>\n",
       "<table border=\"1\" class=\"dataframe\">\n",
       "  <thead>\n",
       "    <tr style=\"text-align: right;\">\n",
       "      <th></th>\n",
       "      <th>Ranking</th>\n",
       "      <th>property_value</th>\n",
       "    </tr>\n",
       "  </thead>\n",
       "  <tbody>\n",
       "    <tr>\n",
       "      <th>Ranking</th>\n",
       "      <td>-</td>\n",
       "      <td>***</td>\n",
       "    </tr>\n",
       "    <tr>\n",
       "      <th>property_value</th>\n",
       "      <td>0.8494</td>\n",
       "      <td>-</td>\n",
       "    </tr>\n",
       "  </tbody>\n",
       "</table>\n",
       "</div>"
      ],
      "text/plain": [
       "               Ranking property_value\n",
       "Ranking              -            ***\n",
       "property_value  0.8494              -"
      ]
     },
     "execution_count": 26,
     "metadata": {},
     "output_type": "execute_result"
    }
   ],
   "source": [
    "pg.rcorr(casas[['Ranking', 'property_value']], \n",
    "         method = 'pearson', upper = 'pval', \n",
    "         decimals = 4, \n",
    "         pval_stars = {0.01: '***', 0.05: '**', 0.10: '*'})"
   ]
  },
  {
   "cell_type": "code",
   "execution_count": null,
   "id": "e7329984",
   "metadata": {},
   "outputs": [],
   "source": []
  },
  {
   "cell_type": "code",
   "execution_count": null,
   "id": "73c096ec",
   "metadata": {},
   "outputs": [],
   "source": []
  },
  {
   "cell_type": "code",
   "execution_count": null,
   "id": "ff70018a",
   "metadata": {},
   "outputs": [],
   "source": []
  }
 ],
 "metadata": {
  "kernelspec": {
   "display_name": "Python 3 (ipykernel)",
   "language": "python",
   "name": "python3"
  },
  "language_info": {
   "codemirror_mode": {
    "name": "ipython",
    "version": 3
   },
   "file_extension": ".py",
   "mimetype": "text/x-python",
   "name": "python",
   "nbconvert_exporter": "python",
   "pygments_lexer": "ipython3",
   "version": "3.11.5"
  }
 },
 "nbformat": 4,
 "nbformat_minor": 5
}
