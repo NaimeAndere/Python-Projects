{
 "cells": [
  {
   "cell_type": "markdown",
   "id": "9e7cbaa1",
   "metadata": {},
   "source": [
    "## Análise Fatorial PCA\n",
    "### Naime Andere\n",
    "\n",
    "Linkedin: https://www.linkedin.com/in/naimeandere/\n",
    "Github: "
   ]
  },
  {
   "cell_type": "markdown",
   "id": "1e1e806e",
   "metadata": {},
   "source": [
    "Instalando os pacotes"
   ]
  },
  {
   "cell_type": "code",
   "execution_count": 2,
   "id": "16f6f4ef",
   "metadata": {},
   "outputs": [
    {
     "name": "stdout",
     "output_type": "stream",
     "text": [
      "Defaulting to user installation because normal site-packages is not writeable\n",
      "Requirement already satisfied: pyshp in c:\\users\\naime\\appdata\\roaming\\python\\python311\\site-packages (2.3.1)\n"
     ]
    }
   ],
   "source": [
    "!pip install pandas\n",
    "!pip install numpy\n",
    "!pip install factor_analyzer\n",
    "!pip install sympy\n",
    "!pip install scipy\n",
    "!pip install matplotlib\n",
    "!pip install seaborn\n",
    "!pip install plotly\n",
    "!pip install pingouin\n",
    "!pip install pyshp"
   ]
  },
  {
   "cell_type": "markdown",
   "id": "25b53a81",
   "metadata": {},
   "source": [
    "Importando os pacotes necessários"
   ]
  },
  {
   "cell_type": "code",
   "execution_count": 3,
   "id": "82c6f54e",
   "metadata": {},
   "outputs": [],
   "source": [
    "import pandas as pd\n",
    "import numpy as np\n",
    "from factor_analyzer import FactorAnalyzer\n",
    "from factor_analyzer.factor_analyzer import calculate_bartlett_sphericity\n",
    "import pingouin as pg\n",
    "import matplotlib.pyplot as plt\n",
    "import seaborn as sns\n",
    "import plotly.io as pio\n",
    "pio.renderers.default = 'browser'\n",
    "import plotly.graph_objects as go"
   ]
  },
  {
   "cell_type": "markdown",
   "id": "e5fef860",
   "metadata": {},
   "source": [
    "Importando o banco de dados"
   ]
  },
  {
   "cell_type": "code",
   "execution_count": null,
   "id": "9bb70c4c",
   "metadata": {},
   "outputs": [],
   "source": [
    "casas = pd.read_excel(\"preco_casas.xlsx\")\n",
    "# Fonte: adaptado de https://www.kaggle.com/datasets/elakiricoder/jiffs-house-price-prediction-dataset"
   ]
  },
  {
   "cell_type": "markdown",
   "id": "714ffdee",
   "metadata": {},
   "source": [
    "É possível extrairmos fatores que capturem o preço de venda das casas?"
   ]
  },
  {
   "cell_type": "markdown",
   "id": "7af73db8",
   "metadata": {},
   "source": [
    "Criar a Estatísticas descritiva das variáveis"
   ]
  },
  {
   "cell_type": "code",
   "execution_count": null,
   "id": "0a73f86a",
   "metadata": {},
   "outputs": [],
   "source": [
    "tab_desc = casas.describe()"
   ]
  },
  {
   "cell_type": "code",
   "execution_count": null,
   "id": "1ba597e9",
   "metadata": {},
   "outputs": [],
   "source": []
  },
  {
   "cell_type": "code",
   "execution_count": null,
   "id": "7a822d83",
   "metadata": {},
   "outputs": [],
   "source": []
  }
 ],
 "metadata": {
  "kernelspec": {
   "display_name": "Python 3 (ipykernel)",
   "language": "python",
   "name": "python3"
  },
  "language_info": {
   "codemirror_mode": {
    "name": "ipython",
    "version": 3
   },
   "file_extension": ".py",
   "mimetype": "text/x-python",
   "name": "python",
   "nbconvert_exporter": "python",
   "pygments_lexer": "ipython3",
   "version": "3.11.5"
  }
 },
 "nbformat": 4,
 "nbformat_minor": 5
}
